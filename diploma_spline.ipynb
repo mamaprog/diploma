{
 "cells": [
  {
   "cell_type": "code",
   "execution_count": 1,
   "id": "8e83dc12-325a-4b57-843e-57ebaa65b411",
   "metadata": {},
   "outputs": [],
   "source": [
    "import matplotlib.pyplot as plt\n",
    "import numpy as np\n",
    "import statistics as stat\n",
    "from scipy.interpolate import splrep, BSpline, splev"
   ]
  },
  {
   "cell_type": "code",
   "execution_count": 2,
   "id": "ede8732f-80cd-4928-9615-c0d90850130b",
   "metadata": {},
   "outputs": [],
   "source": [
    "def average(DATA_AV):\n",
    "    average = []\n",
    "    for i in range(len(DATA_AV)):\n",
    "        average.append(stat.fmean(DATA_AV[i]))\n",
    "    return np.asarray(average, dtype = np.float32)"
   ]
  },
  {
   "cell_type": "code",
   "execution_count": 3,
   "id": "68bf7bc6-4216-4b5e-b8ab-a6251757437a",
   "metadata": {},
   "outputs": [],
   "source": [
    "def geom_mean(DATA_AV):\n",
    "    geom_mean = []\n",
    "    for i in range(len(DATA_AV)):\n",
    "        geom_mean.append(stat.geometric_mean(DATA_AV[i]))\n",
    "    return np.asarray(geom_mean, dtype = np.float32)"
   ]
  },
  {
   "cell_type": "code",
   "execution_count": 4,
   "id": "e91e2728-04f4-4963-b821-347795c2879f",
   "metadata": {},
   "outputs": [],
   "source": [
    "def harm_mean(DATA_AV):\n",
    "    harm_mean = []\n",
    "    for i in range(len(DATA_AV)):\n",
    "        harm_mean.append(stat.harmonic_mean(DATA_AV[i]))\n",
    "    return np.asarray(harm_mean, dtype = np.float32)"
   ]
  },
  {
   "cell_type": "code",
   "execution_count": 24,
   "id": "454d2d2f-19e1-42e1-8d89-cc03343047db",
   "metadata": {},
   "outputs": [],
   "source": [
    "def spline(good_period, good_data, bilog_scale = True, semilogx_scale = False, lin_scale = False):\n",
    "    \n",
    "    h = []\n",
    "    n = len(good_period)\n",
    "    for i in range(n - 1):\n",
    "        h.append(good_period[i + 1] - good_period[i])\n",
    "   \n",
    "    a = [0]\n",
    "    b = [-1]\n",
    "    c = [0]\n",
    "    d = [0]\n",
    "    ksi = [c[0]/b[0]]\n",
    "    etta = [d[0]/b[0]]\n",
    "    for i in range(1, n - 1):\n",
    "        a.append((h[i-1]/6))\n",
    "        b.append((-(h[i-1] + h[i])/3))\n",
    "        c.append(h[i]/6)\n",
    "        d.append((good_data[i+1] - good_data[i])/h[i] - (good_data[i] - good_data[i-1])/h[i-1])\n",
    "        ksi.append(c[i]/(b[i] - ksi[i-1] * a[i]))\n",
    "        etta.append((a[i] * etta[i-1] - d[i])/(b[i] - ksi[i-1] * a[i]))\n",
    "    a.append(0)\n",
    "    b.append(-1)\n",
    "    c.append(0)\n",
    "    d.append(0)\n",
    "    etta.append((a[n-1] * etta[n-2] - d[n-1])/(b[n-1] - ksi[n-2] * a[n-1]))\n",
    "    \n",
    "    m = [etta[n-1]]\n",
    "    for i in range(1, n):\n",
    "        m.append(ksi[-i] * m[i-1] + etta[-(i+1)])\n",
    "    \n",
    "    fig = plt.figure(figsize=(10, 7))\n",
    "    ax = fig.add_subplot()\n",
    "    #ax.plot(good_period, good_data, 'o')\n",
    "    if bilog_scale == True:\n",
    "        for i in range(1, n):\n",
    "            x = np.linspace(good_period[i-1], good_period[i], 50)\n",
    "            ax.loglog(x, ((m[-i] * (good_period[i] - x)**3 + m[-(i+1)] * (x - good_period[i-1])**3) / 6 + (good_data[i-1] - m[-i] * h[i - 1]**2 / 6) * (good_period[i] - x) + (good_data[i] - m[-(i+1)] * h[i - 1]**2 / 6) * (x - good_period[i-1])) / h[i - 1], color='red')\n",
    "            ax.grid('True')\n",
    "            ax.axis('equal')\n",
    "    elif semilogx_scale == True:\n",
    "        for i in range(1, n):\n",
    "            x = np.linspace(good_period[i-1], good_period[i], 50)\n",
    "            ax.semilogx(x, ((m[-i] * (good_period[i] - x)**3 + m[-(i+1)] * (x - good_period[i-1])**3) / 6 + (good_data[i-1] - m[-i] * h[i - 1]**2 / 6) * (good_period[i] - x) + (good_data[i] - m[-(i+1)] * h[i - 1]**2 / 6) * (x - good_period[i-1])) / h[i - 1], color='red')\n",
    "            ax.grid('True')\n",
    "    elif lin_scale == True:\n",
    "        for i in range(1, n):\n",
    "            x = np.linspace(good_period[i-1], good_period[i], 50)\n",
    "            ax.plot(x, ((m[-i] * (good_period[i] - x)**3 + m[-(i+1)] * (x - good_period[i-1])**3) / 6 + (good_data[i-1] - m[-i] * h[i - 1]**2 / 6) * (good_period[i] - x) + (good_data[i] - m[-(i+1)] * h[i - 1]**2 / 6) * (x - good_period[i-1])) / h[i - 1], color='red')\n",
    "            ax.grid('True')\n",
    "            ax.axis('equal')\n",
    "    \n",
    "    plt.show()"
   ]
  },
  {
   "cell_type": "code",
   "execution_count": 6,
   "id": "bc1cfa82-dccd-4cc1-9a9c-37613c052329",
   "metadata": {},
   "outputs": [],
   "source": [
    "def open_exp_data(file_name, data_name):\n",
    "    DATA = []\n",
    "    with open(file_name, 'r') as file:\n",
    "        if '>FREQ' in data_name:\n",
    "            for line in file:\n",
    "                if data_name in line:\n",
    "                    for line in file:\n",
    "                        try:\n",
    "                            DATA += [1/float(value) for value in line.split()]\n",
    "                        except ValueError: \n",
    "                            break\n",
    "                    break\n",
    "            DATA_AR = np.asarray(DATA, dtype = np.float32)\n",
    "        else:\n",
    "            for line in file:\n",
    "                if data_name in line:\n",
    "                    data = []\n",
    "                    for line in file:\n",
    "                        try:\n",
    "                            data += [float(value) for value in line.split()]\n",
    "                        except ValueError:\n",
    "                            DATA.append(data)\n",
    "                            break\n",
    "            DATA_AR = np.asarray(DATA, dtype = np.float32).transpose() \n",
    "            \n",
    "    return DATA_AR"
   ]
  },
  {
   "cell_type": "code",
   "execution_count": 7,
   "id": "c3df9f73-5750-44bf-8c6b-2c767608eb37",
   "metadata": {},
   "outputs": [],
   "source": [
    "def big_filtr(DATA, not32 = True, i_ch = False, iii_ch = False):\n",
    "    rows, clmns = DATA.shape\n",
    "    good_data = []\n",
    "    if not32 == True:\n",
    "        for i in range(rows):\n",
    "            good_data.append(list(DATA[i][DATA[i] < 1e32]))\n",
    "    elif i_ch == True:\n",
    "        for i in range(rows):\n",
    "            good_data.append(list(DATA[i][(DATA[i] <= 90) & (DATA[i] >= 0)]))\n",
    "    elif iii_ch == True:\n",
    "        for i in range(rows):\n",
    "            good_data.append(list(DATA[i][(DATA[i] <= -90) & (DATA[i] >= -180)]))\n",
    "        \n",
    "    return good_data"
   ]
  },
  {
   "cell_type": "code",
   "execution_count": 8,
   "id": "20ade3cd-6882-4080-82a1-42fa8f4a3d45",
   "metadata": {},
   "outputs": [],
   "source": [
    "def filtr_for_impedance(DATA_R, DATA_I):\n",
    "    rows, clmns = DATA_R.shape\n",
    "    good_data_r = []\n",
    "    good_data_i = []\n",
    "    for i in range(rows):\n",
    "        good_data_r.append(list(DATA_R[i][(DATA_R[i] < 1e32) & (DATA_I[i] < 1e32)]))\n",
    "        good_data_i.append(list(DATA_I[i][(DATA_R[i] < 1e32) & (DATA_I[i] < 1e32)]))\n",
    "    return good_data_r, good_data_i\n",
    "# булеву маску достаточно сделать по одному, так как пустные множества \n",
    "# у них будут совпадать(фильтры одинаковые)"
   ]
  },
  {
   "cell_type": "code",
   "execution_count": 9,
   "id": "e985ddec-7083-4e5a-b56e-0537e753420f",
   "metadata": {},
   "outputs": [],
   "source": [
    "# удаляем пустые множества и делаем булеву маску для модуля тензора импеданса\n",
    "def bln_mask_nan_imp(DATA_R, DATA_I): \n",
    "    bln_msk = []\n",
    "    MODULE_IMP = []\n",
    "    for i in range(len(DATA_R)):\n",
    "        if bool(DATA_R[i]) == 0:\n",
    "            bln_msk.append(False)\n",
    "        else:\n",
    "            bln_msk.append(True)\n",
    "            module_imp = []\n",
    "            for j in range(len(DATA_R[i])):\n",
    "                module_imp.append(np.sqrt(DATA_R[i][j]**2 + DATA_I[i][j]**2))\n",
    "            MODULE_IMP.append(module_imp)\n",
    "            \n",
    "    return bln_msk, MODULE_IMP"
   ]
  },
  {
   "cell_type": "code",
   "execution_count": 10,
   "id": "c54945b3-f793-4c97-9542-3c5f88d17eb4",
   "metadata": {},
   "outputs": [],
   "source": [
    "def bln_mask_nan(DATA):\n",
    "    bln_msk = []\n",
    "    good_data = []\n",
    "    for i in range(len(DATA)):\n",
    "        if bool(DATA[i]) == 0:\n",
    "            bln_msk.append(False)\n",
    "        else:\n",
    "            bln_msk.append(True)\n",
    "            good_data.append(DATA[i])\n",
    "    return bln_msk, good_data"
   ]
  },
  {
   "cell_type": "code",
   "execution_count": 11,
   "id": "1be488d0-2cef-4158-96df-110f12c060f1",
   "metadata": {},
   "outputs": [],
   "source": [
    "def open_fin_data(file_name, data_name):\n",
    "    DATA = []\n",
    "    with open(file_name, 'r') as file:\n",
    "            for line in file:\n",
    "                if data_name in line:\n",
    "                    for line in file:\n",
    "                        try:\n",
    "                            if '>FREQ' in data_name:\n",
    "                                DATA += [1/float(value) for value in line.split()]\n",
    "                            else:\n",
    "                                DATA += [float(value) for value in line.split()]\n",
    "                        except ValueError: \n",
    "                            break\n",
    "                    break\n",
    "    return np.asarray(DATA, dtype = np.float32)"
   ]
  },
  {
   "cell_type": "code",
   "execution_count": 12,
   "id": "5b02c8da-f026-499d-a429-74b3c7b9ef93",
   "metadata": {},
   "outputs": [],
   "source": [
    "# проверка невозрастания функции модуля импеданса\n",
    "def non_incr(DATA):\n",
    "    bln_msk_non_incr = [True]\n",
    "    i = 1\n",
    "    z_start = DATA[0]\n",
    "    while True:\n",
    "        if i >= len(DATA):\n",
    "            break\n",
    "        else:\n",
    "            if z_start < DATA[i]:\n",
    "                while z_start < DATA[i]:\n",
    "                    bln_msk_non_incr.append(False)\n",
    "                    i += 1\n",
    "                    if i == len(DATA):\n",
    "                        break\n",
    "                if i == len(DATA):\n",
    "                    break\n",
    "                bln_msk_non_incr.append(True)\n",
    "                z_start = DATA[i]\n",
    "                i += 1         \n",
    "            else:\n",
    "                bln_msk_non_incr.append(True)\n",
    "                z_start = DATA[i]\n",
    "                i += 1\n",
    "    return bln_msk_non_incr"
   ]
  },
  {
   "cell_type": "code",
   "execution_count": 13,
   "id": "52fdad39-a126-4b91-a30e-4e365cbd1f68",
   "metadata": {},
   "outputs": [],
   "source": [
    "# делаем из двух булевых масок одну\n",
    "def one_bln_from_two(bln1, bln2):\n",
    "    return [bool(i*j) for i, j in zip(bln1, bln2)]"
   ]
  },
  {
   "cell_type": "code",
   "execution_count": 14,
   "id": "3ccb54cf-30f4-4854-aa1b-ae7f306c9351",
   "metadata": {},
   "outputs": [],
   "source": [
    "# расчитываем вес зашумленных данных (по оси у)\n",
    "def weig(DATA):\n",
    "    weight = []\n",
    "    for i in range(len(DATA)):\n",
    "        weight.append(1/stat.variance(DATA[i]))\n",
    "    return  np.asarray(weight, dtype = np.float32)"
   ]
  },
  {
   "cell_type": "code",
   "execution_count": 15,
   "id": "5a348c7d-e863-4dd1-a5ab-67b8d8261165",
   "metadata": {},
   "outputs": [],
   "source": [
    "# вытягиваем массив данных и считаем сколько игреков для каждого икса\n",
    "def flat(DATA):\n",
    "    n = []\n",
    "    flat_data = []\n",
    "    for i in range(len(DATA)):\n",
    "        n.append(len(DATA[i]))\n",
    "        flat_data += DATA[i]\n",
    "    return n, flat_data "
   ]
  },
  {
   "cell_type": "code",
   "execution_count": 16,
   "id": "14221779-e931-444c-b4dc-cf672b6f225d",
   "metadata": {},
   "outputs": [],
   "source": [
    "def repeat_data(DATA, n):\n",
    "    return np.repeat(DATA, n)"
   ]
  },
  {
   "cell_type": "code",
   "execution_count": 17,
   "id": "eeea9cad-a0bd-45d9-862f-cd5cd498518c",
   "metadata": {},
   "outputs": [],
   "source": [
    "# считываем данные: период (ось х)\n",
    "period_exp = open_exp_data('OO-01_REH — копия.edi', '>FREQ NFREQ=90 // 90')"
   ]
  },
  {
   "cell_type": "code",
   "execution_count": 18,
   "id": "2a5de618-3a3c-4ddd-8b84-243bca109d23",
   "metadata": {},
   "outputs": [],
   "source": [
    "# считываем и фильруем данные: ху компонента тензора импеданса (ось у)\n",
    "zxyr_exp = open_exp_data('OO-01_REH — копия.edi', '>ZXYR NFREQ=90 ROT=ZROT // 90')\n",
    "zxyi_exp = open_exp_data('OO-01_REH — копия.edi', '>ZXYI NFREQ=90 ROT=ZROT // 90')\n",
    "good_zxyr_exp, good_zxyi_exp = filtr_for_impedance(zxyr_exp, zxyi_exp) # not 32\n",
    "bln_msk_nan_zxy_exp, zxy_exp = bln_mask_nan_imp(good_zxyr_exp, good_zxyi_exp) # убираем пустые множества\n",
    "                                                                              # и делаем список модулей тензора\n",
    "                                                                              # без усреднения\n",
    "period_exp_nan = period_exp[bln_msk_nan_zxy_exp]"
   ]
  },
  {
   "cell_type": "code",
   "execution_count": 19,
   "id": "131bcc01-2ecd-49b6-a29d-bcd2df5e5be5",
   "metadata": {},
   "outputs": [],
   "source": [
    "# создаем массив весов данных\n",
    "zxy_exp_w = weig(zxy_exp)\n",
    "#print(zxy_exp_w)\n",
    "# усредняем данные и проверяем функцию модуля импеданса на невозрастание\n",
    "zxy_exp_gm = geom_mean(zxy_exp)\n",
    "bln_msk_non_incr_zxy_exp = non_incr(zxy_exp_gm)\n",
    "#\n",
    "period_exp_cr3 = period_exp_nan[bln_msk_non_incr_zxy_exp]\n",
    "zxy_exp_gm_cr3 = zxy_exp_gm[bln_msk_non_incr_zxy_exp]"
   ]
  },
  {
   "cell_type": "code",
   "execution_count": 20,
   "id": "fb7dfe19-9e3a-4e5e-9f37-d73c707be277",
   "metadata": {},
   "outputs": [],
   "source": [
    "# вытягияем и повторяем\n",
    "n_zxy_exp, zxy_exp_flat = flat(zxy_exp)\n",
    "#print(n_zxy_exp, zxy_exp_flat)\n",
    "period_exp_rep = np.repeat(period_exp_nan, n_zxy_exp)\n",
    "zxy_exp_w_rep = np.repeat(zxy_exp_w, n_zxy_exp)"
   ]
  },
  {
   "cell_type": "code",
   "execution_count": 25,
   "id": "cc6ce403-dd11-4259-a4dd-7ead76d7337b",
   "metadata": {},
   "outputs": [
    {
     "data": {
      "image/png": "[encoded data removed]",
      "text/plain": [
       "<Figure size 720x504 with 1 Axes>"
      ]
     },
     "metadata": {
      "needs_background": "light"
     },
     "output_type": "display_data"
    }
   ],
   "source": [
    "# строим мой сплайн без крит3\n",
    "spline(period_exp_nan, zxy_exp_gm)"
   ]
  },
  {
   "cell_type": "code",
   "execution_count": 26,
   "id": "edd3d1a7-65dc-4c9f-8d55-6c0faf34e29a",
   "metadata": {},
   "outputs": [
    {
     "data": {
      "image/png": "[encoded data removed]",
      "text/plain": [
       "<Figure size 720x504 with 1 Axes>"
      ]
     },
     "metadata": {
      "needs_background": "light"
     },
     "output_type": "display_data"
    }
   ],
   "source": [
    "# строим мой сплайн с крит3\n",
    "spline(period_exp_cr3, zxy_exp_gm_cr3)"
   ]
  },
  {
   "cell_type": "code",
   "execution_count": 27,
   "id": "ad551fb6-f0b7-4140-8ea3-b2fb7348be4f",
   "metadata": {},
   "outputs": [
    {
     "name": "stdout",
     "output_type": "stream",
     "text": [
      "90 80\n"
     ]
    }
   ],
   "source": [
    "print(len(period_exp_nan), len(period_exp_cr3))"
   ]
  },
  {
   "cell_type": "code",
   "execution_count": 36,
   "id": "85c27b4b-0d26-4b48-9ab2-1c8a2600fd81",
   "metadata": {},
   "outputs": [],
   "source": [
    "#\n",
    "rhoxy_exp = open_exp_data('OO-01_REH — копия.edi', '>RHOXY NFREQ=90 ROT=RHOROT // 90')\n",
    "rhoxy_exp_not32 = big_filtr(rhoxy_exp)\n",
    "bln_msk_nan_rhoxy_exp, good_rhoxy_exp = bln_mask_nan(rhoxy_exp_not32)"
   ]
  },
  {
   "cell_type": "code",
   "execution_count": 37,
   "id": "cf146172-ad76-4b9c-86f1-56926f362d34",
   "metadata": {},
   "outputs": [],
   "source": [
    "#\n",
    "bln_rhoxy_exp = one_bln_from_two(bln_msk_nan_rhoxy_exp, bln_msk_non_incr_zxy_exp)"
   ]
  },
  {
   "cell_type": "code",
   "execution_count": 38,
   "id": "d7dbfca5-eea3-40ba-ac44-a82bb9bafa11",
   "metadata": {},
   "outputs": [],
   "source": [
    "period_cr3 = period_exp[bln_rhoxy_exp]\n",
    "rhoxy_exp_cr3 = geom_mean(good_rhoxy_exp)[bln_msk_non_incr_zxy_exp]\n"
   ]
  },
  {
   "cell_type": "code",
   "execution_count": 39,
   "id": "48d69f28-0eb5-4d06-a1dc-e5638308b158",
   "metadata": {},
   "outputs": [
    {
     "data": {
      "image/png": "[encoded data removed]",
      "text/plain": [
       "<Figure size 720x504 with 1 Axes>"
      ]
     },
     "metadata": {
      "needs_background": "light"
     },
     "output_type": "display_data"
    }
   ],
   "source": [
    "spline(period_exp[bln_msk_nan_rhoxy_exp], geom_mean(good_rhoxy_exp))"
   ]
  },
  {
   "cell_type": "code",
   "execution_count": 40,
   "id": "63192314-066f-4b23-8b0f-0bbf62c86b67",
   "metadata": {},
   "outputs": [
    {
     "data": {
      "image/png": "[encoded data removed]",
      "text/plain": [
       "<Figure size 720x504 with 1 Axes>"
      ]
     },
     "metadata": {
      "needs_background": "light"
     },
     "output_type": "display_data"
    }
   ],
   "source": [
    "spline(period_cr3, rhoxy_exp_cr3)"
   ]
  },
  {
   "cell_type": "code",
   "execution_count": 41,
   "id": "b6839015-2e2f-41c4-ac3b-859dfae775eb",
   "metadata": {},
   "outputs": [],
   "source": [
    "rhoxy_exp_w = weig(good_rhoxy_exp)"
   ]
  },
  {
   "cell_type": "code",
   "execution_count": 42,
   "id": "848fc660-dd29-4a24-8156-a9f14aed26a4",
   "metadata": {},
   "outputs": [],
   "source": [
    "# вытягияем и повторяем\n",
    "n_rhoxy_exp, rhoxy_exp_flat = flat(good_rhoxy_exp)\n",
    "#print(n_rhoxy_exp, rhoxy_exp_flat)\n",
    "period_exp_rhoxy_rep = np.repeat(period_exp_nan, n_rhoxy_exp)\n",
    "rhoxy_exp_w_rep = np.repeat(rhoxy_exp_w, n_rhoxy_exp)"
   ]
  },
  {
   "cell_type": "code",
   "execution_count": 43,
   "id": "4d87465d-5ce6-401a-8f6c-ea09fee1d000",
   "metadata": {},
   "outputs": [],
   "source": [
    "def spline_matrix(good_period, good_data, bilog_scale = True, semilogx_scale = False, lin_scale = False):\n",
    "    \n",
    "    h = []\n",
    "    n = len(good_period)\n",
    "    for i in range(n - 1):\n",
    "        h.append(good_period[i + 1] - good_period[i])\n",
    "   \n",
    "    A = np.zeros((n, n))\n",
    "    H = np.zeros((n, n))\n",
    "              \n",
    "    for i in range(n):\n",
    "        #P[i][i] = w[i]\n",
    "        if i == 0 or i == n-1:\n",
    "            A[i][i] = 1\n",
    "        else:\n",
    "            A[i][i] = (h[i-1] + h[i])/3\n",
    "            H[i][i] = -(1/h[i-1] + 1/h[i])\n",
    "            for j in range(n):\n",
    "                if j == i - 1:\n",
    "                    A[i][j] = h[j]/6\n",
    "                    H[i][j] = 1/h[j]\n",
    "                elif j == i + 1:\n",
    "                    A[i][j] = h[i]/6\n",
    "                    H[i][j] = 1/h[i]\n",
    "                    break\n",
    "    m = np.linalg.solve(A, np.dot(H, good_data))\n",
    "    m = list(m)\n",
    "    m.reverse()\n",
    "    \n",
    "    fig = plt.figure(figsize=(10, 7))\n",
    "    ax = fig.add_subplot()\n",
    "    if bilog_scale == True:\n",
    "        for i in range(1, n):\n",
    "            x = np.linspace(good_period[i-1], good_period[i], 50)\n",
    "            ax.loglog(x, ((m[-i] * (good_period[i] - x)**3 + m[-(i+1)] * (x - good_period[i-1])**3) / 6 + (good_data[i-1] - m[-i] * h[i - 1]**2 / 6) * (good_period[i] - x) + (good_data[i] - m[-(i+1)] * h[i - 1]**2 / 6) * (x - good_period[i-1])) / h[i - 1], color='red')\n",
    "            ax.grid('True')\n",
    "            ax.axis('equal')\n",
    "    elif semilogx_scale == True:\n",
    "        for i in range(1, n):\n",
    "            x = np.linspace(good_period[i-1], good_period[i], 50)\n",
    "            ax.semilogx(x, ((m[-i] * (good_period[i] - x)**3 + m[-(i+1)] * (x - good_period[i-1])**3) / 6 + (good_data[i-1] - m[-i] * h[i - 1]**2 / 6) * (good_period[i] - x) + (good_data[i] - m[-(i+1)] * h[i - 1]**2 / 6) * (x - good_period[i-1])) / h[i - 1], color='red')\n",
    "            ax.grid('True')\n",
    "    elif lin_scale == True:\n",
    "        for i in range(1, n):\n",
    "            x = np.linspace(good_period[i-1], good_period[i], 50)\n",
    "            ax.plot(x, ((m[-i] * (good_period[i] - x)**3 + m[-(i+1)] * (x - good_period[i-1])**3) / 6 + (good_data[i-1] - m[-i] * h[i - 1]**2 / 6) * (good_period[i] - x) + (good_data[i] - m[-(i+1)] * h[i - 1]**2 / 6) * (x - good_period[i-1])) / h[i - 1], color='red')\n",
    "            ax.grid('True')\n",
    "            ax.axis('equal')\n",
    "    ax.plot(good_period, good_data, 'o')\n",
    "    plt.show()\n",
    "    \n",
    "    return A, H, m"
   ]
  },
  {
   "cell_type": "code",
   "execution_count": 44,
   "id": "f16ed3fe-d6f3-4969-9387-21724d7e2823",
   "metadata": {},
   "outputs": [],
   "source": [
    "def smoothing_spline(good_period, good_data, w, s=1, bilog_scale = True, semilogx_scale = False, lin_scale = False):\n",
    "    h = []\n",
    "    n = len(good_period)\n",
    "    for i in range(n - 1):\n",
    "        h.append(good_period[i + 1] - good_period[i])\n",
    "    A = np.zeros((n, n))\n",
    "    P = np.zeros((n, n))\n",
    "    H = np.zeros((n, n))\n",
    "              \n",
    "    for i in range(n):\n",
    "        P[i][i] = w[i]\n",
    "        if i == 0 or i == n-1:\n",
    "            A[i][i] = 1\n",
    "        else:\n",
    "            A[i][i] = (h[i-1] + h[i])/3\n",
    "            H[i][i] = -(1/h[i-1] + 1/h[i])\n",
    "            for j in range(n):\n",
    "                if j == i - 1:\n",
    "                    A[i][j] = h[j]/6\n",
    "                    H[i][j] = 1/h[j]\n",
    "                elif j == i + 1:\n",
    "                    A[i][j] = h[i]/6\n",
    "                    H[i][j] = 1/h[i]\n",
    "                    break\n",
    "        \n",
    "    #print('A\\n', A)\n",
    "    #print(w)\n",
    "    #print('P\\n', P)\n",
    "    #print(h)\n",
    "    #print('H\\n', H)\n",
    "    P_inv = np.linalg.inv(P)\n",
    "    H_t = np.transpose(H)\n",
    "    #print(P_inv)\n",
    "    #print(H_t)\n",
    "    # (A + H * P_inv * H_t) * m = H * good_data\n",
    "    m = np.linalg.solve(np.add(A, np.dot(np.dot(H, P_inv), s*H_t)), np.dot(H, good_data)) # n-1\n",
    "    # mu = good_data - P_inv * H_t * m\n",
    "    mu = np.subtract(good_data, np.dot(np.dot(P_inv, s*H_t), m)) # n\n",
    "    \n",
    "    m = list(m)\n",
    "    m.reverse()\n",
    "    #print(m)\n",
    "    #print(n)\n",
    "    #print(len(m))\n",
    "    #print(len(mu))\n",
    "    #print(len(w))\n",
    "    #print(np.dot(H, P_inv))\n",
    "    #print(np.dot(np.dot(H, P_inv), H_t))\n",
    "    #print(np.add(A, np.dot(np.dot(H, P_inv), H_t)))\n",
    "    #print(np.dot(H, good_data))\n",
    "    #print(m)\n",
    "    #print(w)\n",
    "    print(mu)\n",
    "    print(good_data)\n",
    "    fig = plt.figure(figsize=(10, 7))\n",
    "    ax = fig.add_subplot()\n",
    "    if bilog_scale == True:\n",
    "        for i in range(1, n):\n",
    "            x = np.linspace(good_period[i-1], good_period[i], 50)\n",
    "            ax.loglog(x, ((m[-i] * (good_period[i] - x)**3 + m[-(i+1)] * (x - good_period[i-1])**3) / 6 + (mu[i-1] - m[-i] * h[i - 1]**2 / 6) * (good_period[i] - x) + (mu[i] - m[-(i+1)] * h[i - 1]**2 / 6) * (x - good_period[i-1])) / h[i - 1], color='red')\n",
    "            ax.grid('True')\n",
    "            ax.axis('equal')\n",
    "    elif semilogx_scale == True:\n",
    "        for i in range(1, n):\n",
    "            x = np.linspace(good_period[i-1], good_period[i], 50)\n",
    "            ax.semilogx(x, ((m[-i] * (good_period[i] - x)**3 + m[-(i+1)] * (x - good_period[i-1])**3) / 6 + (mu[i-1] - m[-i] * h[i - 1]**2 / 6) * (good_period[i] - x) + (mu[i] - m[-(i+1)] * h[i - 1]**2 / 6) * (x - good_period[i-1])) / h[i - 1], color='red')\n",
    "            ax.grid('True')\n",
    "    elif lin_scale == True:\n",
    "        for i in range(1, n):\n",
    "            x = np.linspace(good_period[i-1], good_period[i], 50)\n",
    "            ax.plot(x, ((m[-i] * (good_period[i] - x)**3 + m[-(i+1)] * (x - good_period[i-1])**3) / 6 + (mu[i-1] - m[-i] * h[i - 1]**2 / 6) * (good_period[i] - x) + (mu[i] - m[-(i+1)] * h[i - 1]**2 / 6) * (x - good_period[i-1])) / h[i - 1], color='red')\n",
    "            ax.grid('True')\n",
    "            ax.axis('equal')\n",
    "    ax.plot(good_period, good_data, 'o')\n",
    "    plt.show()"
   ]
  },
  {
   "cell_type": "code",
   "execution_count": 158,
   "id": "971135d8-6e88-483d-b2fa-c76069d4188d",
   "metadata": {},
   "outputs": [],
   "source": [
    "def spline_progonka(good_period, good_data):\n",
    "    \n",
    "    h = []\n",
    "    n = len(good_period)\n",
    "    for i in range(n - 1):\n",
    "        h.append(good_period[i + 1] - good_period[i])\n",
    "   \n",
    "    a = [0]\n",
    "    b = [-1]\n",
    "    c = [0]\n",
    "    d = [0]\n",
    "    ksi = [c[0]/b[0]]\n",
    "    etta = [d[0]/b[0]]\n",
    "    for i in range(1, n - 1):\n",
    "        a.append((h[i-1]/6))\n",
    "        b.append((-(h[i-1] + h[i])/3))\n",
    "        c.append(h[i]/6)\n",
    "        d.append((good_data[i+1] - good_data[i])/h[i] - (good_data[i] - good_data[i-1])/h[i-1])\n",
    "        ksi.append(c[i]/(b[i] - ksi[i-1] * a[i]))\n",
    "        etta.append((a[i] * etta[i-1] - d[i])/(b[i] - ksi[i-1] * a[i]))\n",
    "    a.append(0)\n",
    "    b.append(-1)\n",
    "    c.append(0)\n",
    "    d.append(0)\n",
    "    etta.append((a[n-1] * etta[n-2] - d[n-1])/(b[n-1] - ksi[n-2] * a[n-1]))\n",
    "    \n",
    "    m = [etta[n-1]]\n",
    "    for i in range(1, n):\n",
    "        m.append(ksi[-i] * m[i-1] + etta[-(i+1)])\n",
    "    return m"
   ]
  },
  {
   "cell_type": "code",
   "execution_count": 157,
   "id": "1d636430-ad8d-4688-9a02-77d7f4d93b5f",
   "metadata": {},
   "outputs": [],
   "source": [
    "def spline_matrix(good_period, good_data):\n",
    "    \n",
    "    h = []\n",
    "    n = len(good_period)\n",
    "    for i in range(n - 1):\n",
    "        h.append(good_period[i + 1] - good_period[i])\n",
    "   \n",
    "    A = np.zeros((n, n))\n",
    "    H = np.zeros((n, n))\n",
    "              \n",
    "    for i in range(n):\n",
    "        if i == 0 or i == n-1:\n",
    "            A[i][i] = 1\n",
    "        else:\n",
    "            A[i][i] = (h[i-1] + h[i])/3\n",
    "            H[i][i] = -(1/h[i-1] + 1/h[i])\n",
    "            for j in range(n):\n",
    "                if j == i - 1:\n",
    "                    A[i][j] = h[j]/6\n",
    "                    H[i][j] = 1/h[j]\n",
    "                elif j == i + 1:\n",
    "                    A[i][j] = h[i]/6\n",
    "                    H[i][j] = 1/h[i]\n",
    "                    break\n",
    "    m = np.linalg.solve(A, np.dot(H, good_data))\n",
    "    return A, H, m"
   ]
  },
  {
   "cell_type": "code",
   "execution_count": 169,
   "id": "50ffb14a-087e-4d5c-83e5-aca1fb9e9711",
   "metadata": {},
   "outputs": [],
   "source": [
    "m_prgn = spline_progonka(period_exp[bln_msk_nan_rhoxy_exp], geom_mean(good_rhoxy_exp))\n",
    "A_mx, H_mx, m_mx = spline_matrix(period_exp[bln_msk_nan_rhoxy_exp], geom_mean(good_rhoxy_exp))\n",
    "m_gj_2 = gauss_jordan(A_mx, np.dot(H_mx, geom_mean(good_rhoxy_exp)))\n",
    "print(m_gj_2)\n",
    "print(m_mx)\n",
    "m_prgn.reverse()\n",
    "print(np.asarray(m_prgn, dtype = np.float32))"
   ]
  },
  {
   "cell_type": "code",
   "execution_count": 169,
   "id": "3c991879-c64d-4068-886e-4b3d29e08685",
   "metadata": {},
   "outputs": [
    {
     "name": "stdout",
     "output_type": "stream",
     "text": [
      "[ 0.00000000e+00  1.11539738e+09  1.20683796e+08  6.68719087e+07\n",
      " -1.00728670e+08  8.44947146e+07 -1.83814325e+07  1.80344910e+07\n",
      " -2.69855576e+07  8.03706141e+06  7.65904995e+06 -1.14633667e+07\n",
      "  5.50761517e+06 -7.09126603e+06  6.13700594e+06 -3.28741050e+06\n",
      "  1.82362717e+06 -2.78542318e+06  2.71844806e+06 -1.48808402e+06\n",
      "  7.71639361e+05 -2.02123929e+05  9.59504590e+04 -8.32373880e+04\n",
      "  7.29361957e+04 -1.54779701e+04 -4.90713517e+02  4.14120821e+03\n",
      "  1.20461791e+01  3.69351055e+03 -2.59501172e+03  1.21014346e+03\n",
      "  3.75209609e+02 -1.54805379e+01  2.82560998e+02  3.83242417e+00\n",
      "  8.41161538e+01  3.02244847e+01  1.38668409e+02 -6.63180034e+01\n",
      " -1.42109449e+02  1.08479297e+02 -3.44441347e+01  3.72479994e+01\n",
      " -4.88005576e+01  3.11876425e+01 -2.12278240e+01  2.01361952e+01\n",
      " -1.32373447e+01  5.09750605e+00 -3.14917195e+00  4.54959659e+00\n",
      " -2.43013402e+00 -5.94739018e-01 -7.11050066e-01  4.79771492e+00\n",
      " -5.44922632e+00  1.63173218e+00 -6.87432931e-01  9.93857956e-01\n",
      " -8.38829489e-01  2.25860464e-01 -4.65033109e-02 -5.66847468e-04\n",
      "  3.01582866e-02 -2.21597742e-02 -2.45782106e-02 -9.96401282e-02\n",
      "  3.56621755e-01 -3.18092879e-01  1.29010596e-01 -5.91830221e-02\n",
      "  2.33346413e-02  4.52812825e-03 -1.61518628e-02  1.62504551e-02\n",
      " -9.67843632e-03  2.13380244e-03  9.63252420e-04 -3.34466464e-05\n",
      "  5.29736494e-05 -1.33546563e-03  1.00086953e-03 -3.68459623e-04\n",
      "  3.52354855e-04 -6.67818891e-04  1.15373095e-03 -1.24932464e-03\n",
      "  4.18021774e-04  0.00000000e+00]\n",
      "[ 0.00000000e+00  1.11539738e+09  1.20683796e+08  6.68719087e+07\n",
      " -1.00728670e+08  8.44947146e+07 -1.83814325e+07  1.80344910e+07\n",
      " -2.69855576e+07  8.03706141e+06  7.65904995e+06 -1.14633667e+07\n",
      "  5.50761517e+06 -7.09126603e+06  6.13700594e+06 -3.28741050e+06\n",
      "  1.82362717e+06 -2.78542318e+06  2.71844806e+06 -1.48808402e+06\n",
      "  7.71639361e+05 -2.02123929e+05  9.59504590e+04 -8.32373880e+04\n",
      "  7.29361957e+04 -1.54779701e+04 -4.90713517e+02  4.14120821e+03\n",
      "  1.20461791e+01  3.69351055e+03 -2.59501172e+03  1.21014346e+03\n",
      "  3.75209609e+02 -1.54805379e+01  2.82560998e+02  3.83242417e+00\n",
      "  8.41161538e+01  3.02244847e+01  1.38668409e+02 -6.63180034e+01\n",
      " -1.42109449e+02  1.08479297e+02 -3.44441347e+01  3.72479994e+01\n",
      " -4.88005576e+01  3.11876425e+01 -2.12278240e+01  2.01361952e+01\n",
      " -1.32373447e+01  5.09750605e+00 -3.14917195e+00  4.54959659e+00\n",
      " -2.43013402e+00 -5.94739018e-01 -7.11050066e-01  4.79771492e+00\n",
      " -5.44922632e+00  1.63173218e+00 -6.87432931e-01  9.93857956e-01\n",
      " -8.38829489e-01  2.25860464e-01 -4.65033109e-02 -5.66847468e-04\n",
      "  3.01582866e-02 -2.21597742e-02 -2.45782106e-02 -9.96401282e-02\n",
      "  3.56621755e-01 -3.18092879e-01  1.29010596e-01 -5.91830221e-02\n",
      "  2.33346413e-02  4.52812825e-03 -1.61518628e-02  1.62504551e-02\n",
      " -9.67843632e-03  2.13380244e-03  9.63252420e-04 -3.34466464e-05\n",
      "  5.29736494e-05 -1.33546563e-03  1.00086953e-03 -3.68459623e-04\n",
      "  3.52354855e-04 -6.67818891e-04  1.15373095e-03 -1.24932464e-03\n",
      "  4.18021774e-04  0.00000000e+00]\n",
      "[-0.00000000e+00  1.11539738e+09  1.20683808e+08  6.68719080e+07\n",
      " -1.00728672e+08  8.44947120e+07 -1.83814320e+07  1.80344900e+07\n",
      " -2.69855580e+07  8.03706200e+06  7.65905000e+06 -1.14633670e+07\n",
      "  5.50761500e+06 -7.09126600e+06  6.13700600e+06 -3.28741050e+06\n",
      "  1.82362712e+06 -2.78542325e+06  2.71844800e+06 -1.48808400e+06\n",
      "  7.71639375e+05 -2.02123922e+05  9.59504531e+04 -8.32373828e+04\n",
      "  7.29361953e+04 -1.54779697e+04 -4.90714172e+02  4.14120898e+03\n",
      "  1.20457411e+01  3.69351099e+03 -2.59501196e+03  1.21014343e+03\n",
      "  3.75209717e+02 -1.54806013e+01  2.82561035e+02  3.83239055e+00\n",
      "  8.41161652e+01  3.02244778e+01  1.38668411e+02 -6.63180084e+01\n",
      " -1.42109451e+02  1.08479294e+02 -3.44441338e+01  3.72479973e+01\n",
      " -4.88005562e+01  3.11876431e+01 -2.12278233e+01  2.01361942e+01\n",
      " -1.32373438e+01  5.09750605e+00 -3.14917183e+00  4.54959631e+00\n",
      " -2.43013382e+00 -5.94739199e-01 -7.11050034e-01  4.79771519e+00\n",
      " -5.44922638e+00  1.63173223e+00 -6.87432945e-01  9.93857920e-01\n",
      " -8.38829458e-01  2.25860462e-01 -4.65033092e-02 -5.66843664e-04\n",
      "  3.01582869e-02 -2.21597813e-02 -2.45782044e-02 -9.96401310e-02\n",
      "  3.56621742e-01 -3.18092883e-01  1.29010588e-01 -5.91830201e-02\n",
      "  2.33346410e-02  4.52812854e-03 -1.61518641e-02  1.62504558e-02\n",
      " -9.67843644e-03  2.13380251e-03  9.63252445e-04 -3.34466749e-05\n",
      "  5.29736790e-05 -1.33546570e-03  1.00086955e-03 -3.68459645e-04\n",
      "  3.52354866e-04 -6.67818880e-04  1.15373102e-03 -1.24932465e-03\n",
      "  4.18021780e-04 -0.00000000e+00]\n"
     ]
    }
   ],
   "source": [
    "smoothing_spline_mine(period_exp[bln_msk_nan_rhoxy_exp], geom_mean(good_rhoxy_exp)), rhoxy_exp_w[bln_msk_non_incr_zxy_exp], s = 1e-5)"
   ]
  },
  {
   "cell_type": "code",
   "execution_count": 54,
   "id": "b2dfda69-a742-4f32-9967-e55372443f1a",
   "metadata": {},
   "outputs": [],
   "source": [
    "def smoothing_spline_mine(good_period, good_data, w, s=1, bilog_scale = True, semilogx_scale = False, lin_scale = False):\n",
    "    h = []\n",
    "    n = len(good_period)\n",
    "    for i in range(n - 1):\n",
    "        h.append(good_period[i + 1] - good_period[i])\n",
    "    A = np.zeros((n, n))\n",
    "    P = np.zeros((n, n))\n",
    "    H = np.zeros((n, n))\n",
    "              \n",
    "    for i in range(n):\n",
    "        P[i][i] = w[i]\n",
    "        if i == 0 or i == n-1:\n",
    "            A[i][i] = 1\n",
    "        else:\n",
    "            A[i][i] = (h[i-1] + h[i])/3\n",
    "            H[i][i] = -(1/h[i-1] + 1/h[i])\n",
    "            for j in range(n):\n",
    "                if j == i - 1:\n",
    "                    A[i][j] = h[j]/6\n",
    "                    H[i][j] = 1/h[j]\n",
    "                elif j == i + 1:\n",
    "                    A[i][j] = h[i]/6\n",
    "                    H[i][j] = 1/h[i]\n",
    "                    break\n",
    "    #print(H.shape)\n",
    "    #print(H[1][0], H[n-2][n-1])\n",
    "    P_inv = np.linalg.inv(P)\n",
    "    H_t = np.transpose(H)\n",
    "    A_t = np.transpose(A)\n",
    "    A_inv = np.linalg.inv(A)\n",
    "\n",
    "    # (1/2*H*P_inv*(H + A_t*A_inv*H) + A) * m = H * good_data\n",
    "    m = np.linalg.solve(np.add(np.dot(np.dot(s/2 * H, P_inv), np.add(H, np.dot(np.dot(A_t, A_inv), H))), A), np.dot(H, good_data)) # n-1\n",
    "    # mu = good_data - P_inv * (H + A_t*A_inv*H) * m\n",
    "    mu = np.subtract(good_data, np.dot(np.dot(s/2 * P_inv, np.add(H, np.dot(np.dot(A_t, A_inv), H))), m)) # n\n",
    "    \n",
    "    m = list(m)\n",
    "    m.reverse()\n",
    "    #print(mu)\n",
    "    #print(good_data)\n",
    "    fig = plt.figure(figsize=(10, 7))\n",
    "    ax = fig.add_subplot()\n",
    "    if bilog_scale == True:\n",
    "        for i in range(1, n):\n",
    "            x = np.linspace(good_period[i-1], good_period[i], 50)\n",
    "            ax.loglog(x, ((m[-i] * (good_period[i] - x)**3 + m[-(i+1)] * (x - good_period[i-1])**3) / 6 + (mu[i-1] - m[-i] * h[i - 1]**2 / 6) * (good_period[i] - x) + (mu[i] - m[-(i+1)] * h[i - 1]**2 / 6) * (x - good_period[i-1])) / h[i - 1], color='red')\n",
    "            ax.grid('True')\n",
    "            ax.axis('equal')\n",
    "    elif semilogx_scale == True:\n",
    "        for i in range(1, n):\n",
    "            x = np.linspace(good_period[i-1], good_period[i], 50)\n",
    "            ax.semilogx(x, ((m[-i] * (good_period[i] - x)**3 + m[-(i+1)] * (x - good_period[i-1])**3) / 6 + (mu[i-1] - m[-i] * h[i - 1]**2 / 6) * (good_period[i] - x) + (mu[i] - m[-(i+1)] * h[i - 1]**2 / 6) * (x - good_period[i-1])) / h[i - 1], color='red')\n",
    "            ax.grid('True')\n",
    "    elif lin_scale == True:\n",
    "        for i in range(1, n):\n",
    "            x = np.linspace(good_period[i-1], good_period[i], 50)\n",
    "            ax.plot(x, ((m[-i] * (good_period[i] - x)**3 + m[-(i+1)] * (x - good_period[i-1])**3) / 6 + (mu[i-1] - m[-i] * h[i - 1]**2 / 6) * (good_period[i] - x) + (mu[i] - m[-(i+1)] * h[i - 1]**2 / 6) * (x - good_period[i-1])) / h[i - 1], color='red')\n",
    "            ax.grid('True')\n",
    "            ax.axis('equal')\n",
    "    #ax.plot(good_period, good_data, 'o')\n",
    "    plt.show()"
   ]
  },
  {
   "cell_type": "code",
   "execution_count": 53,
   "id": "e5a17730-2f79-40d3-981d-c7618bd16d01",
   "metadata": {},
   "outputs": [
    {
     "name": "stdout",
     "output_type": "stream",
     "text": [
      "[6.17408398e+02 6.13384201e+02 6.07591142e+02 6.00617521e+02\n",
      " 5.92332342e+02 5.82269621e+02 5.70307252e+02 5.56252942e+02\n",
      " 5.39238480e+02 5.23629348e+02 5.02551606e+02 4.72622951e+02\n",
      " 4.40662709e+02 4.11921816e+02 3.74456888e+02 3.23931506e+02\n",
      " 2.73763749e+02 2.32660658e+02 1.84831074e+02 1.31106303e+02\n",
      " 8.67721936e+01 6.08445724e+01 4.46979654e+01 4.14526353e+01\n",
      " 4.21496721e+01 4.21330598e+01 3.85097260e+01 3.31377837e+01\n",
      " 2.91012071e+01 2.52952884e+01 2.15552252e+01 1.87173833e+01\n",
      " 1.67021346e+01 1.44983862e+01 1.21085901e+01 1.04232553e+01\n",
      " 9.29791823e+00 8.24226496e+00 7.43608396e+00 7.14697249e+00\n",
      " 6.17750567e+00 5.78391062e+00 5.50619228e+00 5.48532529e+00\n",
      " 4.99620114e+00 4.86926816e+00 4.49529104e+00 4.32591256e+00\n",
      " 4.18749753e+00 4.02558279e+00 3.82879686e+00 3.71578269e+00\n",
      " 3.50909686e+00 3.30449605e+00 3.16422844e+00 3.00278044e+00\n",
      " 2.88175631e+00 2.79416442e+00 2.72581553e+00 2.61876297e+00\n",
      " 2.42646432e+00 2.25412750e+00 2.21738982e+00 2.06527209e+00\n",
      " 1.87593365e+00 1.73769069e+00 1.63507235e+00 1.41295373e+00\n",
      " 1.35940254e+00 1.21208525e+00 1.05847740e+00 9.85814035e-01\n",
      " 9.41824138e-01 8.80132437e-01 7.22844362e-01 6.51194513e-01\n",
      " 5.96178591e-01 5.47695994e-01 4.18934554e-01 3.90451282e-01]\n",
      "[7.4364758e+02 5.7549738e+02 4.6564362e+02 4.1502267e+02 3.8180505e+02\n",
      " 3.3420895e+02 3.1015738e+02 2.9160568e+02 2.7858563e+02 2.5920099e+02\n",
      " 2.4158200e+02 2.3023788e+02 2.0864027e+02 1.9405138e+02 1.6987346e+02\n",
      " 1.5624013e+02 1.3884235e+02 1.2718551e+02 1.0394262e+02 9.7158028e+01\n",
      " 7.9275528e+01 7.1392883e+01 6.1995667e+01 5.5007519e+01 4.8228489e+01\n",
      " 4.3346855e+01 3.7765659e+01 3.2518429e+01 2.9019449e+01 2.5420647e+01\n",
      " 2.2335833e+01 1.9026093e+01 1.6741161e+01 1.4527105e+01 1.2105239e+01\n",
      " 1.0426214e+01 9.2976484e+00 8.2424030e+00 7.4353433e+00 7.1899271e+00\n",
      " 6.1636219e+00 5.7866154e+00 5.5026374e+00 5.4910831e+00 4.9953871e+00\n",
      " 4.8694158e+00 4.4952526e+00 4.3259144e+00 4.1874971e+00 4.0255828e+00\n",
      " 3.8287969e+00 3.7157826e+00 3.5090969e+00 3.3044960e+00 3.1642284e+00\n",
      " 3.0027804e+00 2.8817563e+00 2.7941644e+00 2.7258155e+00 2.6187630e+00\n",
      " 2.4264643e+00 2.2541275e+00 2.2173898e+00 2.0652721e+00 1.8759336e+00\n",
      " 1.7376907e+00 1.6350724e+00 1.4129537e+00 1.3594025e+00 1.2120852e+00\n",
      " 1.0584774e+00 9.8581403e-01 9.4182414e-01 8.8013244e-01 7.2284436e-01\n",
      " 6.5119451e-01 5.9617859e-01 5.4769599e-01 4.1893455e-01 3.9045128e-01]\n"
     ]
    },
    {
     "data": {
      "image/png": "[encoded data removed]",
      "text/plain": [
       "<Figure size 720x504 with 1 Axes>"
      ]
     },
     "metadata": {
      "needs_background": "light"
     },
     "output_type": "display_data"
    }
   ],
   "source": [
    "smoothing_spline_mine(period_exp_cr3, zxy_exp_gm_cr3, zxy_exp_w[bln_msk_non_incr_zxy_exp], s = 1e-5)"
   ]
  },
  {
   "cell_type": "code",
   "execution_count": 55,
   "id": "cd931fd8-ed4a-4dd6-9387-314aedd1bd10",
   "metadata": {},
   "outputs": [
    {
     "data": {
      "image/png": "[encoded data removed]",
      "text/plain": [
       "<Figure size 720x504 with 1 Axes>"
      ]
     },
     "metadata": {
      "needs_background": "light"
     },
     "output_type": "display_data"
    }
   ],
   "source": [
    "smoothing_spline_mine(period_exp_cr3, rhoxy_exp_cr3, rhoxy_exp_w[bln_msk_non_incr_zxy_exp], s = 1e-5)"
   ]
  },
  {
   "cell_type": "code",
   "execution_count": 301,
   "id": "dab18d43-1ba0-4c51-a92b-df2cf0dce040",
   "metadata": {},
   "outputs": [],
   "source": [
    "def smoothing_spline_mine_2(good_period, good_data, w, s=1, bilog_scale = True, semilogx_scale = False, lin_scale = False):\n",
    "    h = []\n",
    "    n = len(good_period)\n",
    "    for i in range(n - 1):\n",
    "        h.append(good_period[i + 1] - good_period[i])\n",
    "    A = np.zeros((n, n))\n",
    "    P = np.zeros((n, n))\n",
    "    H = np.zeros((n, n))\n",
    "              \n",
    "    for i in range(n):\n",
    "        P[i][i] = w[i]\n",
    "        if i == 0 or i == n-1:\n",
    "            A[i][i] = 1\n",
    "        else:\n",
    "            A[i][i] = (h[i-1] + h[i])/3\n",
    "            H[i][i] = -(1/h[i-1] + 1/h[i])\n",
    "            for j in range(n):\n",
    "                if j == i - 1:\n",
    "                    A[i][j] = h[j]/6\n",
    "                    H[i][j] = 1/h[j]\n",
    "                elif j == i + 1:\n",
    "                    A[i][j] = h[i]/6\n",
    "                    H[i][j] = 1/h[i]\n",
    "                    break\n",
    "    print(H.shape)\n",
    "    print(H[1][0], H[n-2][n-1])\n",
    "    P_inv = np.linalg.inv(P)\n",
    "    H_t = np.transpose(H)\n",
    "    A_t = np.transpose(A)\n",
    "    A_inv = np.linalg.inv(A)\n",
    "\n",
    "    # (1/2*H*P_inv*(H + A_t*A_inv*H) + A) * m = H * good_data\n",
    "    m = np.linalg.solve(np.add(np.dot(np.dot(1/(2*s) * H, P_inv), np.add(H, np.dot(np.dot(A_t, A_inv), H))), A), np.dot(H, good_data)) # n-1\n",
    "    # mu = good_data - P_inv * (H + A_t*A_inv*H) * m\n",
    "    mu = np.subtract(good_data, np.dot(np.dot(1/(2*s) * P_inv, np.add(H, np.dot(np.dot(A_t, A_inv), H))), m)) # n\n",
    "    \n",
    "    m = list(m)\n",
    "    m.reverse()\n",
    "    print(mu)\n",
    "    print(good_data)\n",
    "    fig = plt.figure(figsize=(10, 7))\n",
    "    ax = fig.add_subplot()\n",
    "    ax.plot(good_period, good_data, 'o')\n",
    "    if bilog_scale == True:\n",
    "        for i in range(1, n):\n",
    "            x = np.linspace(good_period[i-1], good_period[i], 50)\n",
    "            ax.loglog(x, ((m[-i] * (good_period[i] - x)**3 + m[-(i+1)] * (x - good_period[i-1])**3) / 6 + (mu[i-1] - m[-i] * h[i - 1]**2 / 6) * (good_period[i] - x) + (mu[i] - m[-(i+1)] * h[i - 1]**2 / 6) * (x - good_period[i-1])) / h[i - 1], color='red')\n",
    "            ax.grid('True')\n",
    "            ax.axis('equal')\n",
    "    elif semilogx_scale == True:\n",
    "        for i in range(1, n):\n",
    "            x = np.linspace(good_period[i-1], good_period[i], 50)\n",
    "            ax.semilogx(x, ((m[-i] * (good_period[i] - x)**3 + m[-(i+1)] * (x - good_period[i-1])**3) / 6 + (mu[i-1] - m[-i] * h[i - 1]**2 / 6) * (good_period[i] - x) + (mu[i] - m[-(i+1)] * h[i - 1]**2 / 6) * (x - good_period[i-1])) / h[i - 1], color='red')\n",
    "            ax.grid('True')\n",
    "    elif lin_scale == True:\n",
    "        for i in range(1, n):\n",
    "            x = np.linspace(good_period[i-1], good_period[i], 50)\n",
    "            ax.plot(x, ((m[-i] * (good_period[i] - x)**3 + m[-(i+1)] * (x - good_period[i-1])**3) / 6 + (mu[i-1] - m[-i] * h[i - 1]**2 / 6) * (good_period[i] - x) + (mu[i] - m[-(i+1)] * h[i - 1]**2 / 6) * (x - good_period[i-1])) / h[i - 1], color='red')\n",
    "            ax.grid('True')\n",
    "            ax.axis('equal')\n",
    "    plt.show()"
   ]
  },
  {
   "cell_type": "code",
   "execution_count": 307,
   "id": "243ba4d2-07b3-4262-9f82-f2f37a721ee8",
   "metadata": {},
   "outputs": [
    {
     "name": "stdout",
     "output_type": "stream",
     "text": [
      "(80, 80)\n",
      "6808.495221533397 0.0008933724241931185\n",
      "[ 62.66442701  62.59318726  62.49060194  62.36700097  62.21989005\n",
      "  62.04064122  61.82640113  61.57253338  61.26103873  60.97010898\n",
      "  60.56721646  59.96928494  59.28672721  58.6243671   57.67634369\n",
      "  56.20816505  54.46384637  52.74390204  50.27562225  46.61541756\n",
      "  42.33406703  38.63256295  34.48644045  31.24011371  29.06341054\n",
      "  26.98812983  24.79145207  22.60476507  20.79464502  18.79024824\n",
      "  16.64860746  14.94141492  13.66889317  12.17580616  10.43507315\n",
      "   9.26549512   8.51253514   7.90530893   7.86684996   9.36424473\n",
      "   9.05311547   9.49323827  10.43910553  11.39879682  11.68185222\n",
      "  13.46740292  13.80218171  17.41842602  19.95058019  22.12663724\n",
      "  33.35888882  37.70456604  56.04373032  59.63632162  74.56702514\n",
      "  82.07914127  90.70558701  98.40159252 110.68482933 124.83738616\n",
      " 128.6181178  128.06791879 179.01335671 186.36518583 177.40695947\n",
      " 179.89937179 194.68134417 174.45883598 186.29911695 175.05638139\n",
      " 163.16932678 169.84587096 178.86877445 184.61000055 152.19342041\n",
      " 148.19674682 143.31628419 143.01333616 102.23962403 122.97568516]\n",
      "[100.54433    69.94679    54.966743   52.43513    53.19869    48.98477\n",
      "  50.63046    53.54006    58.639645   58.57274    60.129448   66.75504\n",
      "  65.782845   65.65953    59.45516    61.476925   58.260437   56.416622\n",
      "  44.52628    47.54923    38.67345    37.06864    34.163437   32.276287\n",
      "  28.62746    27.33083    25.35416    22.558086   20.72823    18.798172\n",
      "  17.73673    15.44594    13.798191   12.276302   10.419175    9.276011\n",
      "   8.511672    7.9054065   7.8622565  10.179951    8.841295    9.524696\n",
      "  10.33511    11.8764925  11.615038   13.488631   13.794447   17.419058\n",
      "  19.950489   22.12658    33.358925   37.704227   56.043774   59.63632\n",
      "  74.56703    82.07914    90.70559    98.40159   110.68483   124.83739\n",
      " 128.61812   128.06792   179.01357   186.36519   177.40689   179.89937\n",
      " 194.68135   174.45883   186.29912   175.05638   163.16933   169.84587\n",
      " 178.86877   184.61      152.19342   148.19675   143.31628   143.01334\n",
      " 102.239624  122.975685 ]\n"
     ]
    },
    {
     "data": {
      "image/png": "[encoded data removed]",
      "text/plain": [
       "<Figure size 720x504 with 1 Axes>"
      ]
     },
     "metadata": {
      "needs_background": "light"
     },
     "output_type": "display_data"
    }
   ],
   "source": [
    "smoothing_spline_mine_2(period_exp_cr3, rhoxy_exp_cr3, rhoxy_exp_w[bln_msk_non_incr_zxy_exp], s = 1e5)"
   ]
  }
 ],
 "metadata": {
  "kernelspec": {
   "display_name": "Python 3 (ipykernel)",
   "language": "python",
   "name": "python3"
  },
  "language_info": {
   "codemirror_mode": {
    "name": "ipython",
    "version": 3
   },
   "file_extension": ".py",
   "mimetype": "text/x-python",
   "name": "python",
   "nbconvert_exporter": "python",
   "pygments_lexer": "ipython3",
   "version": "3.10.4"
  }
 },
 "nbformat": 4,
 "nbformat_minor": 5
}
